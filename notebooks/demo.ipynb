{
 "cells": [
  {
   "cell_type": "markdown",
   "id": "preliminary-science",
   "metadata": {},
   "source": [
    "# Notebook Demo For Using Toniq Data Manager"
   ]
  },
  {
   "cell_type": "code",
   "execution_count": 2,
   "id": "continuous-welcome",
   "metadata": {},
   "outputs": [],
   "source": [
    "import sys\n",
    "sys.path.append(\"..\")\n",
    "from module import DataManager\n",
    "import pandas as pd"
   ]
  },
  {
   "cell_type": "code",
   "execution_count": 5,
   "id": "floral-supplement",
   "metadata": {
    "collapsed": true,
    "jupyter": {
     "outputs_hidden": true
    }
   },
   "outputs": [
    {
     "name": "stdout",
     "output_type": "stream",
     "text": [
      "county.csv  patients.csv\n"
     ]
    }
   ],
   "source": [
    "ls ../data/raw"
   ]
  },
  {
   "cell_type": "markdown",
   "id": "bronze-sodium",
   "metadata": {},
   "source": [
    "## Initialize the Data Manager Connecting to Toniq Store and Presto on GCP"
   ]
  },
  {
   "cell_type": "code",
   "execution_count": 27,
   "id": "dress-fossil",
   "metadata": {},
   "outputs": [
    {
     "name": "stdout",
     "output_type": "stream",
     "text": [
      "s3_endpoint is 10.2.3.167:9000\n",
      "s3_endpoint is 10.2.3.167:9000\n"
     ]
    }
   ],
   "source": [
    "dm = DataManager(provider='gcp')"
   ]
  },
  {
   "cell_type": "markdown",
   "id": "inappropriate-muslim",
   "metadata": {},
   "source": [
    "### Write a dataframe into Toniq as a Spark Table"
   ]
  },
  {
   "cell_type": "code",
   "execution_count": 28,
   "id": "corresponding-class",
   "metadata": {},
   "outputs": [
    {
     "name": "stdout",
     "output_type": "stream",
     "text": [
      "Saved Toniq Table (raw_patients)\n"
     ]
    }
   ],
   "source": [
    "df = pd.read_csv( \"../data/raw/patients.csv\")\n",
    "dm.write_toniq_table(df , table_name=\"raw_patients\")"
   ]
  },
  {
   "cell_type": "markdown",
   "id": "regulated-picture",
   "metadata": {},
   "source": [
    "## Load Table from toniq store"
   ]
  },
  {
   "cell_type": "code",
   "execution_count": 20,
   "id": "academic-catalog",
   "metadata": {},
   "outputs": [
    {
     "data": {
      "text/html": [
       "<div>\n",
       "<style scoped>\n",
       "    .dataframe tbody tr th:only-of-type {\n",
       "        vertical-align: middle;\n",
       "    }\n",
       "\n",
       "    .dataframe tbody tr th {\n",
       "        vertical-align: top;\n",
       "    }\n",
       "\n",
       "    .dataframe thead th {\n",
       "        text-align: right;\n",
       "    }\n",
       "</style>\n",
       "<table border=\"1\" class=\"dataframe\">\n",
       "  <thead>\n",
       "    <tr style=\"text-align: right;\">\n",
       "      <th></th>\n",
       "      <th>Id</th>\n",
       "      <th>BIRTHDATE</th>\n",
       "      <th>DEATHDATE</th>\n",
       "      <th>SSN</th>\n",
       "      <th>DRIVERS</th>\n",
       "      <th>PASSPORT</th>\n",
       "      <th>PREFIX</th>\n",
       "      <th>FIRST</th>\n",
       "      <th>LAST</th>\n",
       "      <th>SUFFIX</th>\n",
       "      <th>...</th>\n",
       "      <th>BIRTHPLACE</th>\n",
       "      <th>ADDRESS</th>\n",
       "      <th>CITY</th>\n",
       "      <th>STATE</th>\n",
       "      <th>COUNTY</th>\n",
       "      <th>ZIP</th>\n",
       "      <th>LAT</th>\n",
       "      <th>LON</th>\n",
       "      <th>HEALTHCARE_EXPENSES</th>\n",
       "      <th>HEALTHCARE_COVERAGE</th>\n",
       "    </tr>\n",
       "  </thead>\n",
       "  <tbody>\n",
       "    <tr>\n",
       "      <th>0</th>\n",
       "      <td>a5f1e0ad-e353-3253-57b7-fba5772dfb2a</td>\n",
       "      <td>1954-08-03</td>\n",
       "      <td>None</td>\n",
       "      <td>999-19-9187</td>\n",
       "      <td>S99924733</td>\n",
       "      <td>X13064600X</td>\n",
       "      <td>Mrs.</td>\n",
       "      <td>Karol905</td>\n",
       "      <td>West559</td>\n",
       "      <td>None</td>\n",
       "      <td>...</td>\n",
       "      <td>Billerica  Massachusetts  US</td>\n",
       "      <td>486 Buckridge Green Suite 89</td>\n",
       "      <td>Methuen</td>\n",
       "      <td>Massachusetts</td>\n",
       "      <td>Essex County</td>\n",
       "      <td>1841.0</td>\n",
       "      <td>42.694271</td>\n",
       "      <td>-71.210175</td>\n",
       "      <td>1406624.32</td>\n",
       "      <td>13998.04</td>\n",
       "    </tr>\n",
       "    <tr>\n",
       "      <th>1</th>\n",
       "      <td>cc637315-dcfe-669f-5b60-4460a5d15531</td>\n",
       "      <td>1922-06-12</td>\n",
       "      <td>1997-10-16</td>\n",
       "      <td>999-75-7903</td>\n",
       "      <td>S99960413</td>\n",
       "      <td>X38498045X</td>\n",
       "      <td>Mr.</td>\n",
       "      <td>Angelo118</td>\n",
       "      <td>Gutmann970</td>\n",
       "      <td>None</td>\n",
       "      <td>...</td>\n",
       "      <td>Ludlow  Massachusetts  US</td>\n",
       "      <td>1057 Swaniawski Trafficway Apt 0</td>\n",
       "      <td>Harwich</td>\n",
       "      <td>Massachusetts</td>\n",
       "      <td>Barnstable County</td>\n",
       "      <td>NaN</td>\n",
       "      <td>41.679505</td>\n",
       "      <td>-70.100486</td>\n",
       "      <td>1757919.21</td>\n",
       "      <td>5698.68</td>\n",
       "    </tr>\n",
       "    <tr>\n",
       "      <th>2</th>\n",
       "      <td>901c5e91-cdfe-9380-3a63-cae05d0a26c9</td>\n",
       "      <td>2007-11-20</td>\n",
       "      <td>None</td>\n",
       "      <td>999-78-7978</td>\n",
       "      <td>None</td>\n",
       "      <td>None</td>\n",
       "      <td>None</td>\n",
       "      <td>Aiko748</td>\n",
       "      <td>Berge125</td>\n",
       "      <td>None</td>\n",
       "      <td>...</td>\n",
       "      <td>Westfield  Massachusetts  US</td>\n",
       "      <td>1031 VonRueden Bay</td>\n",
       "      <td>Billerica</td>\n",
       "      <td>Massachusetts</td>\n",
       "      <td>Middlesex County</td>\n",
       "      <td>NaN</td>\n",
       "      <td>42.542253</td>\n",
       "      <td>-71.230790</td>\n",
       "      <td>352691.12</td>\n",
       "      <td>2841.52</td>\n",
       "    </tr>\n",
       "  </tbody>\n",
       "</table>\n",
       "<p>3 rows × 25 columns</p>\n",
       "</div>"
      ],
      "text/plain": [
       "                                     Id   BIRTHDATE   DEATHDATE          SSN  \\\n",
       "0  a5f1e0ad-e353-3253-57b7-fba5772dfb2a  1954-08-03        None  999-19-9187   \n",
       "1  cc637315-dcfe-669f-5b60-4460a5d15531  1922-06-12  1997-10-16  999-75-7903   \n",
       "2  901c5e91-cdfe-9380-3a63-cae05d0a26c9  2007-11-20        None  999-78-7978   \n",
       "\n",
       "     DRIVERS    PASSPORT PREFIX      FIRST        LAST SUFFIX  ...  \\\n",
       "0  S99924733  X13064600X   Mrs.   Karol905     West559   None  ...   \n",
       "1  S99960413  X38498045X    Mr.  Angelo118  Gutmann970   None  ...   \n",
       "2       None        None   None    Aiko748    Berge125   None  ...   \n",
       "\n",
       "                     BIRTHPLACE                           ADDRESS       CITY  \\\n",
       "0  Billerica  Massachusetts  US      486 Buckridge Green Suite 89    Methuen   \n",
       "1     Ludlow  Massachusetts  US  1057 Swaniawski Trafficway Apt 0    Harwich   \n",
       "2  Westfield  Massachusetts  US                1031 VonRueden Bay  Billerica   \n",
       "\n",
       "           STATE             COUNTY     ZIP        LAT        LON  \\\n",
       "0  Massachusetts       Essex County  1841.0  42.694271 -71.210175   \n",
       "1  Massachusetts  Barnstable County     NaN  41.679505 -70.100486   \n",
       "2  Massachusetts   Middlesex County     NaN  42.542253 -71.230790   \n",
       "\n",
       "  HEALTHCARE_EXPENSES HEALTHCARE_COVERAGE  \n",
       "0          1406624.32            13998.04  \n",
       "1          1757919.21             5698.68  \n",
       "2           352691.12             2841.52  \n",
       "\n",
       "[3 rows x 25 columns]"
      ]
     },
     "execution_count": 20,
     "metadata": {},
     "output_type": "execute_result"
    }
   ],
   "source": [
    "spark_df = dm.load_toniq_table(table_name=\"raw_patients\")\n",
    "spark_df.toPandas().head(3)"
   ]
  },
  {
   "cell_type": "markdown",
   "id": "existing-connection",
   "metadata": {},
   "source": [
    "## Query Spark DataFrame Using SQL"
   ]
  },
  {
   "cell_type": "code",
   "execution_count": 25,
   "id": "initial-trading",
   "metadata": {},
   "outputs": [],
   "source": [
    "# Create Temporary Table\n",
    "spark_df.createOrReplaceTempView(\"raw_patients\")\n",
    "\n",
    "# Query Table\n",
    "dm.spark.sql(\"\"\"\n",
    "\n",
    "SELECT \n",
    "    deathdate\n",
    "FROM raw_patients\n",
    "\n",
    "\"\"\")\n",
    "\n",
    "\n",
    "# Remove Temporary Table\n",
    "\n"
   ]
  },
  {
   "cell_type": "markdown",
   "id": "functional-cutting",
   "metadata": {},
   "source": [
    "## Stop Spark Session"
   ]
  },
  {
   "cell_type": "code",
   "execution_count": 26,
   "id": "innocent-century",
   "metadata": {},
   "outputs": [],
   "source": [
    "dm.spark.stop()"
   ]
  }
 ],
 "metadata": {
  "kernelspec": {
   "display_name": "toniq-python3",
   "language": "python",
   "name": "python3"
  },
  "language_info": {
   "codemirror_mode": {
    "name": "ipython",
    "version": 3
   },
   "file_extension": ".py",
   "mimetype": "text/x-python",
   "name": "python",
   "nbconvert_exporter": "python",
   "pygments_lexer": "ipython3",
   "version": "3.7.9"
  },
  "widgets": {
   "application/vnd.jupyter.widget-state+json": {
    "state": {},
    "version_major": 2,
    "version_minor": 0
   }
  }
 },
 "nbformat": 4,
 "nbformat_minor": 5
}
