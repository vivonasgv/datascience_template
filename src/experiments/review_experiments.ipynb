{
 "cells": [
  {
   "cell_type": "code",
   "execution_count": 39,
   "id": "unusual-segment",
   "metadata": {},
   "outputs": [],
   "source": [
    "import warnings\n",
    "warnings.simplefilter(\"ignore\")\n",
    "\n",
    "import os\n",
    "import pandas as pd\n",
    "import io\n",
    "import requests\n",
    "import sys\n",
    "import json\n",
    "import plotly.express as px\n",
    "sys.path.append(\"../../modules\")\n",
    "from data_manager import DataManager\n",
    "\n",
    "\n",
    "import pyspark.ml\n",
    "import pyspark.sql.functions as f\n",
    "import pyspark.sql.types as t\n",
    "\n",
    "from pyspark.ml.tuning import CrossValidator\n",
    "from pyspark.mllib.evaluation import MulticlassMetrics\n",
    "\n",
    "import toniq\n",
    "import hyperopt\n",
    "from hyperopt import hp\n",
    "\n",
    "from functools import partial\n",
    "\n",
    "import tempfile\n",
    "import shutil\n",
    "from inspect import signature\n",
    "from glob import glob"
   ]
  },
  {
   "cell_type": "markdown",
   "id": "choice-linux",
   "metadata": {},
   "source": [
    "## Setup Config"
   ]
  },
  {
   "cell_type": "code",
   "execution_count": 40,
   "id": "german-elimination",
   "metadata": {},
   "outputs": [],
   "source": [
    "config = {\n",
    "    \"experiment_name\": \"EXP2\", # name of the experiment\n",
    "    \"sort_runs_metric\": \"test-fMeasure\",  # sort runs by the metric name\n",
    "}"
   ]
  },
  {
   "cell_type": "markdown",
   "id": "involved-divide",
   "metadata": {},
   "source": [
    "## Initialize DataManager"
   ]
  },
  {
   "cell_type": "code",
   "execution_count": 41,
   "id": "reduced-nurse",
   "metadata": {},
   "outputs": [
    {
     "name": "stdout",
     "output_type": "stream",
     "text": [
      "s3_endpoint is 10.2.3.167:9000\n",
      "s3_endpoint is 10.2.3.167:9000\n"
     ]
    }
   ],
   "source": [
    "dm = DataManager(provider=\"gcp\")"
   ]
  },
  {
   "cell_type": "markdown",
   "id": "executive-matthew",
   "metadata": {},
   "source": [
    "## Initialize MLFLOW"
   ]
  },
  {
   "cell_type": "code",
   "execution_count": 42,
   "id": "nonprofit-insert",
   "metadata": {},
   "outputs": [],
   "source": [
    "mlflow_client = toniq.MlflowClient()"
   ]
  },
  {
   "cell_type": "markdown",
   "id": "martial-jimmy",
   "metadata": {},
   "source": [
    "## Get the Experiment Object from config['experiment_name']"
   ]
  },
  {
   "cell_type": "code",
   "execution_count": 50,
   "id": "fewer-reference",
   "metadata": {},
   "outputs": [
    {
     "data": {
      "text/plain": [
       "{'EXP1': <Experiment: artifact_location='file:///home/toniq/work/datascience_template/src/experiments/mlruns/1', experiment_id='1', lifecycle_stage='active', name='EXP1', tags={}>,\n",
       " 'EXP2': <Experiment: artifact_location='file:///home/toniq/work/datascience_template/src/experiments/mlruns/2', experiment_id='2', lifecycle_stage='active', name='EXP2', tags={}>,\n",
       " 'Default': <Experiment: artifact_location='file:///home/toniq/work/datascience_template/src/experiments/mlruns/0', experiment_id='0', lifecycle_stage='active', name='Default', tags={}>}"
      ]
     },
     "execution_count": 50,
     "metadata": {},
     "output_type": "execute_result"
    }
   ],
   "source": [
    "experiment_list = mlflow_client.list_experiments()\n",
    "name2experiment = dict(zip(list(map(lambda exp: exp.name, experiment_list)), experiment_list))\n",
    "name2experiment"
   ]
  },
  {
   "cell_type": "code",
   "execution_count": 14,
   "id": "experienced-contemporary",
   "metadata": {},
   "outputs": [],
   "source": [
    "experiment = mlflow_client.get_experiment_by_name(name=config[\"experiment_name\"])\n"
   ]
  },
  {
   "cell_type": "markdown",
   "id": "packed-mission",
   "metadata": {},
   "source": [
    "## Get the Runs from the Chosen Expeirment"
   ]
  },
  {
   "cell_type": "code",
   "execution_count": 15,
   "id": "varied-scanning",
   "metadata": {},
   "outputs": [],
   "source": [
    "run_list = mlflow_client.search_runs(experiment_ids=experiment.experiment_id)\n",
    "\n",
    "# sort out any runs with null metrics to avoid further issues when choosing an experiment\n",
    "run_list = list(filter(lambda r: bool(r.data.metrics), run_list))\n",
    "\n",
    "\n",
    "#Sort Runs by the Specified Metric (config['sort_runs_metric'])\n",
    "run_list = sorted(run_list, key= lambda r: r.data.metrics[config[\"sort_runs_metric\"]], reverse=True)\n",
    "\n",
    "# get the best run from the run_list\n",
    "best_run = run_list[0]"
   ]
  },
  {
   "cell_type": "code",
   "execution_count": 16,
   "id": "exclusive-interference",
   "metadata": {},
   "outputs": [
    {
     "name": "stdout",
     "output_type": "stream",
     "text": [
      "\u001b[0m\u001b[01;34mconfig\u001b[0m/  \u001b[01;34mmodel\u001b[0m/  \u001b[01;34mpredictions\u001b[0m/\n"
     ]
    }
   ],
   "source": [
    "ls /home/toniq/work/datascience_template/src/experiments/mlruns/1/2f4cdb28541b4caeafe6ebcf33a33c6a/artifacts"
   ]
  },
  {
   "cell_type": "markdown",
   "id": "treated-music",
   "metadata": {},
   "source": [
    "## Retrieve the Artifacts from the Best Run"
   ]
  },
  {
   "cell_type": "code",
   "execution_count": 38,
   "id": "commercial-dryer",
   "metadata": {},
   "outputs": [
    {
     "name": "stdout",
     "output_type": "stream",
     "text": [
      "{'model': '/home/toniq/work/datascience_template/src/experiments/mlruns/2/248a944993a84cd590d57f4cbd4f61e9/artifacts/model/tmph0p8rdy6', 'config': '/home/toniq/work/datascience_template/src/experiments/mlruns/2/248a944993a84cd590d57f4cbd4f61e9/artifacts/config/tmp2ws2jq0x.json', 'predictions': '/home/toniq/work/datascience_template/src/experiments/mlruns/2/248a944993a84cd590d57f4cbd4f61e9/artifacts/predictions/tmpaf1oapgy.json'}\n"
     ]
    }
   ],
   "source": [
    "\n",
    "# list all of the paths from the best run\n",
    "artifact_paths = glob(best_run.info.artifact_uri.replace(\"file://\", \"\")+\"/*/*\")\n",
    "\n",
    "# get a hash between the artifact name and the path\n",
    "artifact2path = {ap.split('/')[-2] : ap for ap in artifact_paths}\n"
   ]
  },
  {
   "cell_type": "markdown",
   "id": "fewer-christopher",
   "metadata": {},
   "source": [
    "### Get the Run Configuration"
   ]
  },
  {
   "cell_type": "code",
   "execution_count": 26,
   "id": "adapted-cruise",
   "metadata": {},
   "outputs": [
    {
     "data": {
      "text/plain": [
       "{'name': 'GBTClassifier',\n",
       " 'params': {'maxBins': 55.0, 'maxDepth': 5.0, 'minInstancesPerNode': 58.0},\n",
       " 'type': 'classification'}"
      ]
     },
     "execution_count": 26,
     "metadata": {},
     "output_type": "execute_result"
    }
   ],
   "source": [
    "\n",
    "with open(artifact2path[\"config\"], \"r\") as f:\n",
    "    run_config = json.load(f)"
   ]
  },
  {
   "cell_type": "markdown",
   "id": "naked-electric",
   "metadata": {},
   "source": [
    "### Get the Run Predictions"
   ]
  },
  {
   "cell_type": "code",
   "execution_count": 32,
   "id": "cardiac-fight",
   "metadata": {},
   "outputs": [
    {
     "data": {
      "text/html": [
       "<div>\n",
       "<style scoped>\n",
       "    .dataframe tbody tr th:only-of-type {\n",
       "        vertical-align: middle;\n",
       "    }\n",
       "\n",
       "    .dataframe tbody tr th {\n",
       "        vertical-align: top;\n",
       "    }\n",
       "\n",
       "    .dataframe thead th {\n",
       "        text-align: right;\n",
       "    }\n",
       "</style>\n",
       "<table border=\"1\" class=\"dataframe\">\n",
       "  <thead>\n",
       "    <tr style=\"text-align: right;\">\n",
       "      <th></th>\n",
       "      <th>label</th>\n",
       "      <th>probability</th>\n",
       "      <th>prediction</th>\n",
       "    </tr>\n",
       "  </thead>\n",
       "  <tbody>\n",
       "    <tr>\n",
       "      <th>0</th>\n",
       "      <td>0</td>\n",
       "      <td>[0.952287674, 0.0477123335]</td>\n",
       "      <td>0</td>\n",
       "    </tr>\n",
       "    <tr>\n",
       "      <th>1</th>\n",
       "      <td>0</td>\n",
       "      <td>[0.9599270225000001, 0.0400729962]</td>\n",
       "      <td>0</td>\n",
       "    </tr>\n",
       "    <tr>\n",
       "      <th>2</th>\n",
       "      <td>1</td>\n",
       "      <td>[0.6862932444000001, 0.3137067556]</td>\n",
       "      <td>0</td>\n",
       "    </tr>\n",
       "    <tr>\n",
       "      <th>3</th>\n",
       "      <td>0</td>\n",
       "      <td>[0.7930009961000001, 0.20699898900000002]</td>\n",
       "      <td>0</td>\n",
       "    </tr>\n",
       "    <tr>\n",
       "      <th>4</th>\n",
       "      <td>1</td>\n",
       "      <td>[0.5173786879, 0.48262131210000003]</td>\n",
       "      <td>0</td>\n",
       "    </tr>\n",
       "    <tr>\n",
       "      <th>...</th>\n",
       "      <td>...</td>\n",
       "      <td>...</td>\n",
       "      <td>...</td>\n",
       "    </tr>\n",
       "    <tr>\n",
       "      <th>16276</th>\n",
       "      <td>0</td>\n",
       "      <td>[0.7340903878, 0.265909642]</td>\n",
       "      <td>0</td>\n",
       "    </tr>\n",
       "    <tr>\n",
       "      <th>16277</th>\n",
       "      <td>0</td>\n",
       "      <td>[0.9448387623000001, 0.055161234]</td>\n",
       "      <td>0</td>\n",
       "    </tr>\n",
       "    <tr>\n",
       "      <th>16278</th>\n",
       "      <td>0</td>\n",
       "      <td>[0.2734720409, 0.7265279889]</td>\n",
       "      <td>1</td>\n",
       "    </tr>\n",
       "    <tr>\n",
       "      <th>16279</th>\n",
       "      <td>0</td>\n",
       "      <td>[0.9550402164, 0.044959787300000005]</td>\n",
       "      <td>0</td>\n",
       "    </tr>\n",
       "    <tr>\n",
       "      <th>16280</th>\n",
       "      <td>0</td>\n",
       "      <td>[0.8790996075, 0.12090039250000001]</td>\n",
       "      <td>0</td>\n",
       "    </tr>\n",
       "  </tbody>\n",
       "</table>\n",
       "<p>16281 rows × 3 columns</p>\n",
       "</div>"
      ],
      "text/plain": [
       "       label                                probability  prediction\n",
       "0          0                [0.952287674, 0.0477123335]           0\n",
       "1          0         [0.9599270225000001, 0.0400729962]           0\n",
       "2          1         [0.6862932444000001, 0.3137067556]           0\n",
       "3          0  [0.7930009961000001, 0.20699898900000002]           0\n",
       "4          1        [0.5173786879, 0.48262131210000003]           0\n",
       "...      ...                                        ...         ...\n",
       "16276      0                [0.7340903878, 0.265909642]           0\n",
       "16277      0          [0.9448387623000001, 0.055161234]           0\n",
       "16278      0               [0.2734720409, 0.7265279889]           1\n",
       "16279      0       [0.9550402164, 0.044959787300000005]           0\n",
       "16280      0        [0.8790996075, 0.12090039250000001]           0\n",
       "\n",
       "[16281 rows x 3 columns]"
      ]
     },
     "execution_count": 32,
     "metadata": {},
     "output_type": "execute_result"
    }
   ],
   "source": [
    "run_predictions = pd.read_json(artifact2path[\"predictions\"])"
   ]
  },
  {
   "cell_type": "markdown",
   "id": "regulated-harmony",
   "metadata": {},
   "source": [
    "## Get the Model from the Experiment"
   ]
  },
  {
   "cell_type": "code",
   "execution_count": 37,
   "id": "visible-nothing",
   "metadata": {},
   "outputs": [],
   "source": [
    "import pyspark.ml\n",
    "\n",
    "# get the model_cofnig from the model field in run_config\n",
    "''' FIX TODO: Saved Models are Empty'''\n",
    "\n",
    "model_config = run_config[\"model\"]\n",
    "\n",
    "# get the model class\n",
    "model = getattr(getattr(pyspark.ml, model_config[\"type\"]), model_config[\"name\"])\n",
    "\n",
    "# initialize the object with the hyperparams (params field) from the model_config\n",
    "model = model(**model_config[\"params\"])\n",
    "\n",
    "# load the model from the artifact store in mlflow\n",
    "#model.load(artifact2path[\"model\"])"
   ]
  }
 ],
 "metadata": {
  "kernelspec": {
   "display_name": "toniq-python3",
   "language": "python",
   "name": "python3"
  },
  "language_info": {
   "codemirror_mode": {
    "name": "ipython",
    "version": 3
   },
   "file_extension": ".py",
   "mimetype": "text/x-python",
   "name": "python",
   "nbconvert_exporter": "python",
   "pygments_lexer": "ipython3",
   "version": "3.7.9"
  },
  "widgets": {
   "application/vnd.jupyter.widget-state+json": {
    "state": {},
    "version_major": 2,
    "version_minor": 0
   }
  }
 },
 "nbformat": 4,
 "nbformat_minor": 5
}
