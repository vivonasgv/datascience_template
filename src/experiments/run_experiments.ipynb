{
 "cells": [
  {
   "cell_type": "code",
   "execution_count": 1,
   "id": "informed-remark",
   "metadata": {},
   "outputs": [],
   "source": [
    "import warnings\n",
    "warnings.simplefilter(\"ignore\")\n",
    "\n",
    "\n",
    "import pandas as pd\n",
    "import io\n",
    "import requests\n",
    "import sys\n",
    "import json\n",
    "\n",
    "\n",
    "sys.path.append(\"../modules\")\n",
    "from data_manager import DataManager\n",
    "from trainer import TrainerManager\n",
    "\n",
    "\n",
    "import pyspark.ml\n",
    "import pyspark.sql.functions as f\n",
    "import pyspark.sql.types as t\n",
    "\n",
    "from pyspark.ml.tuning import CrossValidator\n",
    "from pyspark.mllib.evaluation import MulticlassMetrics\n",
    "\n",
    "import toniq\n",
    "\n",
    "'''We Use hyperopt for Optimizations'''\n",
    "import hyperopt\n",
    "from hyperopt import hp\n",
    "from hyperopt import fmin, tpe\n",
    "\n",
    "from functools import partial\n",
    "\n",
    "import tempfile\n",
    "from shutil import make_archive\n",
    "\n",
    "\n"
   ]
  },
  {
   "cell_type": "markdown",
   "id": "relevant-houston",
   "metadata": {},
   "source": [
    "# Setup Config"
   ]
  },
  {
   "cell_type": "code",
   "execution_count": 2,
   "id": "lovely-midwest",
   "metadata": {},
   "outputs": [],
   "source": [
    "config = {\n",
    "\"provider\": \"gcp\",\n",
    "\n",
    "\"hyperopt\":\n",
    "    {\n",
    "    \"metric\": \"fMeasure\",\n",
    "    \"max_evals\": 100,\n",
    "    },\n",
    "    \n",
    "\"mlflow\":\n",
    "    {\n",
    "        \"experiment_name\": \"EXP5\",\n",
    "        \"tags\": {\"version\": \"0.1.0\"} \n",
    "    },\n",
    "\"data\":\n",
    "    {\n",
    "         mode: {\"name\": f\"income_transformed_data_{mode}\", \"store\": \"feature\", \"partition\": mode}\n",
    "         for mode in [\"train\", \"test\"]\n",
    "    \n",
    "    }\n",
    "}"
   ]
  },
  {
   "cell_type": "markdown",
   "id": "weekly-powder",
   "metadata": {},
   "source": [
    "## Initialize TrainingManager"
   ]
  },
  {
   "cell_type": "code",
   "execution_count": 3,
   "id": "satisfied-hudson",
   "metadata": {},
   "outputs": [
    {
     "name": "stdout",
     "output_type": "stream",
     "text": [
      "s3_endpoint is 10.2.3.167:9000\n"
     ]
    }
   ],
   "source": [
    "trainer = TrainerManager(config)"
   ]
  },
  {
   "cell_type": "code",
   "execution_count": null,
   "id": "prescription-paragraph",
   "metadata": {},
   "outputs": [
    {
     "name": "stdout",
     "output_type": "stream",
     "text": [
      " 83%|████████▎ | 83/100 [21:55<04:15, 15.05s/trial, best loss: -0.691]"
     ]
    }
   ],
   "source": [
    "\n",
    "# define a search space\n",
    "\n",
    "\n",
    "space = hp.choice('model',      \n",
    "    [\n",
    "        {\n",
    "            'type': 'classification',\n",
    "            'name': 'RandomForestClassifier',    \n",
    "            'params': {\n",
    "                       \"maxDepth\":hp.quniform(\"maxDepth\",5,10,1),\n",
    "                       \"maxBins\":hp.quniform(\"maxBins\", 45,60,1),\n",
    "                       \"minInstancesPerNode\":hp.quniform(\"minInstancesPerNode\", 40,60,1),\n",
    "                       \"numTrees\":hp.quniform(\"numTrees\", 40,60,1)\n",
    "                      }\n",
    "        },\n",
    "        \n",
    "        {\n",
    "            'type': 'classification',\n",
    "            'name': 'GBTClassifier',   \n",
    "            \n",
    "            \n",
    "            'params': {\n",
    "                       \"maxDepth\":hp.quniform(\"maxDepth_GBT\",5,10,1),\n",
    "                       \"maxBins\":hp.quniform(\"maxBins_GBT\", 45,60,1),\n",
    "                       \"minInstancesPerNode\":hp.quniform(\"minInstancesPerNode_GBT\", 40,60,1),\n",
    "                      }\n",
    "        }\n",
    "    ])\n",
    "\n",
    "# minimize the objective over the space\n",
    "best = fmin(trainer.run_experiment, space, algo=tpe.suggest, max_evals=config[\"hyperopt\"][\"max_evals\"])\n",
    "\n",
    "print(best)\n",
    "print(\"Best \", hyperopt.space_eval(space, best))"
   ]
  },
  {
   "cell_type": "code",
   "execution_count": null,
   "id": "dependent-delay",
   "metadata": {},
   "outputs": [],
   "source": []
  }
 ],
 "metadata": {
  "kernelspec": {
   "display_name": "toniq-python3",
   "language": "python",
   "name": "python3"
  },
  "language_info": {
   "codemirror_mode": {
    "name": "ipython",
    "version": 3
   },
   "file_extension": ".py",
   "mimetype": "text/x-python",
   "name": "python",
   "nbconvert_exporter": "python",
   "pygments_lexer": "ipython3",
   "version": "3.7.9"
  },
  "widgets": {
   "application/vnd.jupyter.widget-state+json": {
    "state": {},
    "version_major": 2,
    "version_minor": 0
   }
  }
 },
 "nbformat": 4,
 "nbformat_minor": 5
}
