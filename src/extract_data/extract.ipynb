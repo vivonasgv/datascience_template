{
 "cells": [
  {
   "cell_type": "code",
   "execution_count": 2,
   "id": "nearby-advisory",
   "metadata": {},
   "outputs": [],
   "source": [
    "\n",
    "import pandas as pd\n",
    "import io\n",
    "import requests\n",
    "import sys\n",
    "\n",
    "sys.path.append(\"../../modules\")\n",
    "from data_manager import DataManager\n",
    "\n",
    "\n"
   ]
  },
  {
   "cell_type": "markdown",
   "id": "romantic-dublin",
   "metadata": {},
   "source": [
    "## Get the Pandas Dataframes from Source"
   ]
  },
  {
   "cell_type": "code",
   "execution_count": 7,
   "id": "honest-weather",
   "metadata": {},
   "outputs": [],
   "source": [
    "# fill in the empty columns\n",
    "columns = [\"age\",\n",
    "\"workclass\", \n",
    "\"fnlwgt\", \n",
    "\"education\", \n",
    "\"education_num\", \n",
    "\"marital_status\",\n",
    "\"occupation\",\n",
    "\"relationship\",\n",
    "\"race\", \n",
    "\"sex\",\n",
    "\"capital_gain\",\n",
    "\"capital_loss\", \n",
    "\"hours_per_week\", \n",
    "\"native_country\",\n",
    "\"income\"]\n",
    "\n",
    "\n",
    "dfs = {}\n",
    "for mode in [\"train\", \"test\"]:\n",
    "    url=f\"https://github.com/avinashkz/income-prediction/raw/master/data/{mode}.csv\"\n",
    "    dfs[mode]= pd.read_csv(url)\n",
    "    dfs[mode].columns = columns\n",
    "    \n",
    "    dfs[mode][\"income\"] = dfs[mode][\"income\"].apply(lambda x: \"gt 50k\" if \">\" in x else \"lt 50k\" )\n",
    "    dfs[mode] = dfs[mode].reset_index()\n"
   ]
  },
  {
   "cell_type": "markdown",
   "id": "tight-begin",
   "metadata": {},
   "source": [
    "## Initialize DataManger"
   ]
  },
  {
   "cell_type": "code",
   "execution_count": 3,
   "id": "addressed-brooks",
   "metadata": {},
   "outputs": [
    {
     "name": "stdout",
     "output_type": "stream",
     "text": [
      "s3_endpoint is 10.2.3.167:9000\n"
     ]
    }
   ],
   "source": [
    "dm = DataManager(provider=\"gcp\")"
   ]
  },
  {
   "cell_type": "markdown",
   "id": "vertical-syndicate",
   "metadata": {},
   "source": [
    "## Save Raw Data into Toniq Data Store"
   ]
  },
  {
   "cell_type": "code",
   "execution_count": 4,
   "id": "incoming-walter",
   "metadata": {},
   "outputs": [
    {
     "name": "stdout",
     "output_type": "stream",
     "text": [
      "Saved Toniq Table (income_raw_data_train)\n",
      "Saved Toniq Table (income_raw_data_test)\n"
     ]
    }
   ],
   "source": [
    "\n",
    "for mode in [\"train\", \"test\"]:\n",
    "    dm.write_table(dfs[mode], name=f\"income_raw_data_{mode}\", verbose=True, save_presto=False)"
   ]
  },
  {
   "cell_type": "markdown",
   "id": "blessed-michigan",
   "metadata": {},
   "source": [
    "## Stop Spark"
   ]
  },
  {
   "cell_type": "code",
   "execution_count": 5,
   "id": "postal-spectacular",
   "metadata": {},
   "outputs": [
    {
     "name": "stdout",
     "output_type": "stream",
     "text": [
      "s3_endpoint is 10.2.3.167:9000\n"
     ]
    }
   ],
   "source": [
    "dm.store.stop_spark()"
   ]
  }
 ],
 "metadata": {
  "kernelspec": {
   "display_name": "toniq-python3",
   "language": "python",
   "name": "python3"
  },
  "language_info": {
   "codemirror_mode": {
    "name": "ipython",
    "version": 3
   },
   "file_extension": ".py",
   "mimetype": "text/x-python",
   "name": "python",
   "nbconvert_exporter": "python",
   "pygments_lexer": "ipython3",
   "version": "3.7.9"
  },
  "widgets": {
   "application/vnd.jupyter.widget-state+json": {
    "state": {},
    "version_major": 2,
    "version_minor": 0
   }
  }
 },
 "nbformat": 4,
 "nbformat_minor": 5
}
